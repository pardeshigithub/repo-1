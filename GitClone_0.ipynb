{
  "nbformat": 4,
  "nbformat_minor": 0,
  "metadata": {
    "colab": {
      "provenance": [],
      "authorship_tag": "ABX9TyN64dUga82X9+G9zh4xrcNB",
      "include_colab_link": true
    },
    "kernelspec": {
      "name": "python3",
      "display_name": "Python 3"
    },
    "language_info": {
      "name": "python"
    }
  },
  "cells": [
    {
      "cell_type": "markdown",
      "metadata": {
        "id": "view-in-github",
        "colab_type": "text"
      },
      "source": [
        "<a href=\"https://colab.research.google.com/github/pardeshigithub/repo-1/blob/main/GitClone_0.ipynb\" target=\"_parent\"><img src=\"https://colab.research.google.com/assets/colab-badge.svg\" alt=\"Open In Colab\"/></a>"
      ]
    },
    {
      "cell_type": "markdown",
      "source": [
        "# **Clone Git Repositery to Gdrive **"
      ],
      "metadata": {
        "id": "LyQa4KxdxAD7"
      }
    },
    {
      "cell_type": "code",
      "execution_count": 17,
      "metadata": {
        "colab": {
          "base_uri": "https://localhost:8080/"
        },
        "id": "RsUPG_Kvw9kO",
        "outputId": "55fdb4d0-02a9-4e39-e7f7-165568ef7729"
      },
      "outputs": [
        {
          "output_type": "stream",
          "name": "stdout",
          "text": [
            "Drive already mounted at /gdrive; to attempt to forcibly remount, call drive.mount(\"/gdrive\", force_remount=True).\n",
            "/gdrive/MyDrive/Colab Notebooks\n",
            "Cloning into 'python-geospatial'...\n",
            "remote: Enumerating objects: 97, done.\u001b[K\n",
            "remote: Counting objects: 100% (8/8), done.\u001b[K\n",
            "remote: Compressing objects: 100% (7/7), done.\u001b[K\n",
            "remote: Total 97 (delta 0), reused 1 (delta 0), pack-reused 89\u001b[K\n",
            "Receiving objects: 100% (97/97), 3.05 MiB | 14.33 MiB/s, done.\n",
            "Resolving deltas: 100% (41/41), done.\n",
            "/gdrive/MyDrive/Colab Notebooks/python-geospatial\n",
            "total 22\n",
            "drwx------ 2 root root  4096 Mar 22 06:31 binder\n",
            "drwx------ 3 root root  4096 Mar 22 06:31 examples\n",
            "-rw------- 1 root root  1068 Mar 22 06:31 LICENSE\n",
            "-rw------- 1 root root 12044 Mar 22 06:31 README.md\n"
          ]
        }
      ],
      "source": [
        "# Clone Git Repo\n",
        "\n",
        "from google.colab import drive\n",
        "drive.mount('/gdrive')\n",
        "#!ls /gdrive/MyDrive/Furniture\n",
        "#%cd /gdrive/MyDrive/Furniture\n",
        "\n",
        "\n",
        "# How to download Kaggle Datasets into Google Colab via Google Drive\n",
        "# https://medium.com/analytics-vidhya/how-to-download-kaggle-datasets-into-google-colab-via-google-drive-dcb348d7af07\n",
        "\n",
        "#%cd /gdrive/MyDrive/Colab Notebooks\n",
        "#!ls -l\n",
        "# clone repositary\n",
        "%cd /gdrive/MyDrive/Colab Notebooks\n",
        "! git clone https://github.com/opengeos/python-geospatial.git\n",
        "%cd /gdrive/MyDrive/Colab Notebooks/python-geospatial\n",
        "!ls -l"
      ]
    }
  ]
}